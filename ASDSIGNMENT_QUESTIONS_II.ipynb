{
  "nbformat": 4,
  "nbformat_minor": 0,
  "metadata": {
    "colab": {
      "private_outputs": true,
      "provenance": []
    },
    "kernelspec": {
      "name": "python3",
      "display_name": "Python 3"
    },
    "language_info": {
      "name": "python"
    }
  },
  "cells": [
    {
      "cell_type": "markdown",
      "source": [
        "Q.1 Which keword is used to create a function? Create a function to return a list of add numbers in the  range of 1 to 25."
      ],
      "metadata": {
        "id": "J2isziglAynK"
      }
    },
    {
      "cell_type": "markdown",
      "source": [
        "Ans:- The def keyword is used to create, (or define) a function."
      ],
      "metadata": {
        "id": "dXPO9aXlBQHZ"
      }
    },
    {
      "cell_type": "code",
      "execution_count": null,
      "metadata": {
        "id": "VihmsvJk8kYq"
      },
      "outputs": [],
      "source": [
        "def sum(numbers):\n",
        "    total = 0\n",
        "    for x in numbers:\n",
        "        total += x\n",
        "    return total\n"
      ]
    },
    {
      "cell_type": "code",
      "source": [
        "l=[1,2,3,4,5,6,7,8,9,10,11,12,13,14,15,16,17,18,19,20,21,22,23,24,25]\n",
        "print(sum((1,2,3,4,5,6,7,8,9,10,11,12,13,14,15,16,17,18,19,20,21,22,23,24,25)))\n"
      ],
      "metadata": {
        "id": "ujfcHIQAwwYM"
      },
      "execution_count": null,
      "outputs": []
    },
    {
      "cell_type": "markdown",
      "source": [
        "Q.2 Why *args and **kwargs is used in some functions? Create a function each for *args and **kwargs to demonstrate their use."
      ],
      "metadata": {
        "id": "NULiKM36BTv-"
      }
    },
    {
      "cell_type": "markdown",
      "source": [
        "Ans:- We use *args and **kwargs as an argument when we are unsure about the number of arguments to pass in the functions.\n",
        "In Python, we can pass a variable number of arguments to a function using special symbols. There are two special symbols:\n",
        "\n",
        "*args (Non Keyword Arguments)\n",
        "**kwargs (Keyword Arguments)\n",
        "We use *args and **kwargs as an argument when we are unsure about the number of arguments to pass in the functions.\n",
        "\n",
        "Python *args\n",
        "we are not sure about the number of arguments that can be passed to a function. Python has *args which allow us to pass the variable number of non keyword arguments to function.\n",
        "Python **kwargs\n",
        "Python passes variable length non keyword argument to function using *args but we cannot use this to pass keyword argument. For this problem Python has got a solution called **kwargs, it allows us to pass the variable length of keyword arguments to the function."
      ],
      "metadata": {
        "id": "TQ8TiL20CFNe"
      }
    },
    {
      "cell_type": "code",
      "source": [
        "def myFun(*argv):\n",
        "    for arg in argv:\n",
        "        print(arg)\n",
        " \n",
        " \n"
      ],
      "metadata": {
        "id": "hl7JQubNCFzR"
      },
      "execution_count": null,
      "outputs": []
    },
    {
      "cell_type": "code",
      "source": [
        "myFun('Hello', 'Welcome', 'to', 'p.w.skills in Data Sciece', 'Shashi')"
      ],
      "metadata": {
        "id": "Hp0LFR4o4g6t"
      },
      "execution_count": null,
      "outputs": []
    },
    {
      "cell_type": "code",
      "source": [
        "def myFun(arg1, *argv):\n",
        "    print(\"First argument :\", arg1)\n",
        "    for arg in argv:\n",
        "        print(\"Next argument through *argv :\", arg)"
      ],
      "metadata": {
        "id": "nyKP5s_c4-3o"
      },
      "execution_count": null,
      "outputs": []
    },
    {
      "cell_type": "code",
      "source": [
        "myFun('Hello', 'Welcome', 'to', 'p.w.skills in Data Sciece', 'Shashi')"
      ],
      "metadata": {
        "id": "mHBzFlsh5SKL"
      },
      "execution_count": null,
      "outputs": []
    },
    {
      "cell_type": "code",
      "source": [
        "def myFun(**kwargs):\n",
        "    for key, value in kwargs.items():\n",
        "        print(\"%s == %s\" % (key, value))"
      ],
      "metadata": {
        "id": "8nRl0wX45YWE"
      },
      "execution_count": null,
      "outputs": []
    },
    {
      "cell_type": "code",
      "source": [
        "myFun(first='Hello', mid='Welcome', last='P.W.Skills in Data Sciece to Shashi')"
      ],
      "metadata": {
        "id": "IxNudlPk6mQP"
      },
      "execution_count": null,
      "outputs": []
    },
    {
      "cell_type": "markdown",
      "source": [
        "Q.3 What is an Iterator in python? Name the method used to Initialise the Iterater object and the method used for Iteration. Use these methods to print the first five elements of the given list \n",
        "[2, 4, 6, 8, 10, 12, 14, 16, 18, 20]"
      ],
      "metadata": {
        "id": "kInV92JbCLea"
      }
    },
    {
      "cell_type": "markdown",
      "source": [
        "Ans:- An iterator is an object that contains a countable number of values.\n",
        "An iterator is an object that can be iterated upon, meaning that you can traverse through all the values.\n",
        "Technically, in Python, an iterator is an object which implements the iterator protocol, which consist of the methods __iter__() and __next__().\n",
        "All these objects have a iter() method which is used to get an iterator:"
      ],
      "metadata": {
        "id": "7e7HQX2pC3w8"
      }
    },
    {
      "cell_type": "code",
      "source": [
        "def printValues():\n",
        "\tl = list()\n",
        "\tfor i in range(1,21):\n",
        "\t\tl.append(i**2)"
      ],
      "metadata": {
        "id": "4vWoYkhxC5ic"
      },
      "execution_count": null,
      "outputs": []
    },
    {
      "cell_type": "code",
      "source": [
        "l=[2,4,6,8,10,12,14,1,18,20]\n",
        "print(l[:5])"
      ],
      "metadata": {
        "id": "lgDcXh058wmR"
      },
      "execution_count": null,
      "outputs": []
    },
    {
      "cell_type": "code",
      "source": [
        "l=[2,4,6,8,10,12,14,1,18,20]\n",
        "list(filter(lambda x:x<10, l))"
      ],
      "metadata": {
        "id": "5e7TBMa_9X1X"
      },
      "execution_count": null,
      "outputs": []
    },
    {
      "cell_type": "markdown",
      "source": [
        "Q.4 What is a generator function in python? Why yield keword is used? Give an example of a generator function."
      ],
      "metadata": {
        "id": "Wg5KSfjjC6aW"
      }
    },
    {
      "cell_type": "markdown",
      "source": [
        "Ans:-\n",
        "Yield Keyword:- When we call a generator function, it creates a generator object by combining all the values returned by the yield keyword. Additionally, code begins to run only after the caller iterates through the object.\n"
      ],
      "metadata": {
        "id": "8RE4fGIkDN5i"
      }
    },
    {
      "cell_type": "code",
      "source": [
        "def fun_generator():\n",
        "    yield \"P.W.Skills\""
      ],
      "metadata": {
        "id": "L8GvDf4jDPfx"
      },
      "execution_count": null,
      "outputs": []
    },
    {
      "cell_type": "code",
      "source": [
        "l=[\"P.W.Skills\"]\n",
        "obj = fun_generator()\n",
        "print(type(obj))\n",
        "print(next(obj))"
      ],
      "metadata": {
        "id": "dEGvPEbJAzmf"
      },
      "execution_count": null,
      "outputs": []
    },
    {
      "cell_type": "code",
      "source": [
        "def print_even(test_list):\n",
        "    for i in test_list:\n",
        "        if i % 2 == 0:\n",
        "            yield i"
      ],
      "metadata": {
        "id": "5EZpUdQrBn9a"
      },
      "execution_count": null,
      "outputs": []
    },
    {
      "cell_type": "code",
      "source": [
        "test_list = [1, 4, 5, 6, 7]\n",
        "print(\"The original list is : \" + str(test_list))\n",
        "print(\"The even numbers in list are : \", end=\" \")\n",
        "for j in print_even(test_list):\n",
        "    print(j, end=\" \")"
      ],
      "metadata": {
        "id": "abg9wScvCAdk"
      },
      "execution_count": null,
      "outputs": []
    },
    {
      "cell_type": "markdown",
      "source": [
        "Q.5 Create a gerator function for prime numbers less than 1000. Use the next() method to print the first 20 prime numbers."
      ],
      "metadata": {
        "id": "OkmpHio-DQKq"
      }
    },
    {
      "cell_type": "code",
      "source": [
        "from math import sqrt\n",
        "def is_prime(n):\n",
        "    if (n <= 1):\n",
        "        return False\n",
        "    if (n == 2):\n",
        "        return True\n",
        "    if (n % 2 == 0):\n",
        "        return False\n",
        "    i = 3\n",
        "    while i <= sqrt(n):\n",
        "        if n % i == 0:\n",
        "            return False\n",
        "        i = i + 2\n",
        "    return True"
      ],
      "metadata": {
        "id": "rmC7xLw7DkZ8"
      },
      "execution_count": null,
      "outputs": []
    },
    {
      "cell_type": "code",
      "source": [
        "def prime_generator():\n",
        "    n = 1\n",
        "    while True:\n",
        "        n += 1\n",
        "        if is_prime(n):\n",
        "            yield n"
      ],
      "metadata": {
        "id": "g89qvPPpDaz5"
      },
      "execution_count": null,
      "outputs": []
    },
    {
      "cell_type": "code",
      "source": [
        "generator = prime_generator()\n",
        "for i in range(20):\n",
        "    print(next(generator))"
      ],
      "metadata": {
        "id": "e-g1D6xKDhsI"
      },
      "execution_count": null,
      "outputs": []
    },
    {
      "cell_type": "markdown",
      "source": [
        "Q.6 Write a python program to print the first 10 Fibonscci numbers using a while loop."
      ],
      "metadata": {
        "id": "pVBYIlUsDlsT"
      }
    },
    {
      "cell_type": "code",
      "source": [
        "num = int(input(\"Enter the Fibonacci Number Range: \"))\n",
        "n1 = 0\n",
        "n2 = 1\n",
        "Sum = 0\n",
        "i = 0\n",
        "while(i <  num):\n",
        "    print(n1, end = '  ')\n",
        "    Sum = Sum + n1\n",
        "    Next = n1 + n2\n",
        "    n1 = n2\n",
        "    n2 = Next\n",
        "    i = i + 1\n",
        "print(\"\\nSum of Fibonacci Series Numbers: %d\" %Sum)"
      ],
      "metadata": {
        "id": "9bT6LiG-D3dR"
      },
      "execution_count": null,
      "outputs": []
    },
    {
      "cell_type": "markdown",
      "source": [
        "Q.7 Write a List Comprehension to Iterator through the given string: 'pwskills'.\n",
        "Expected output: ['p', 'w', 's', 'k', 'i', 'l', 'l', 's'] "
      ],
      "metadata": {
        "id": "K-TjtHCuD4CJ"
      }
    },
    {
      "cell_type": "code",
      "source": [
        "s=\"pwskills\"\n",
        "list(map(lambda s:s.upper(), s))"
      ],
      "metadata": {
        "id": "7gX1aKPUEX85"
      },
      "execution_count": null,
      "outputs": []
    },
    {
      "cell_type": "markdown",
      "source": [
        "Q.8 Write a python program to check whether a given number is Palindrame or not using a while loop."
      ],
      "metadata": {
        "id": "ZkPS9kUHEYnm"
      }
    },
    {
      "cell_type": "code",
      "source": [
        "num = int(input('Enter the number: '))\n",
        "reverse = 0\n",
        "number = num\n",
        "while(num != 0):\n",
        "   remainder = num % 10\n",
        "   reverse = reverse * 10 + remainder\n",
        "   num = int(num / 10)\n",
        "if(number == reverse):\n",
        "   print(number,'is a Palindrome')\n",
        "else:\n",
        "   print(number,'is not a Palindrome')"
      ],
      "metadata": {
        "id": "60--0jvkEqQj"
      },
      "execution_count": null,
      "outputs": []
    },
    {
      "cell_type": "markdown",
      "source": [
        "Q.9 Write a code to print odd numbers from 1 to 100 using list comprehension."
      ],
      "metadata": {
        "id": "xSP--xdDEq3U"
      }
    },
    {
      "cell_type": "code",
      "source": [
        "def oddNumbers(l, r):\n",
        "    return list(range(l if l % 2 else l + 1, r + 1, 2))"
      ],
      "metadata": {
        "id": "y7yI13NCE39u"
      },
      "execution_count": null,
      "outputs": []
    },
    {
      "cell_type": "code",
      "source": [
        "start = int(input(\"Enter the start of range: \"))\n",
        "end = int(input(\"Enter the end of range: \"))\n",
        "if (start> end):\n",
        "    print(\"Start value should be greater than end value\")\n",
        "print(oddNumbers(start,end))"
      ],
      "metadata": {
        "id": "r6nfxZ5TKCHl"
      },
      "execution_count": null,
      "outputs": []
    },
    {
      "cell_type": "code",
      "source": [
        "start, end = 1, 100\n",
        "for num in range(start, end + 1): \n",
        "    if num % 2 != 0:\n",
        "        print(num, end = \" \")"
      ],
      "metadata": {
        "id": "gJy7MHucKvbf"
      },
      "execution_count": null,
      "outputs": []
    }
  ]
}